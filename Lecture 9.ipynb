{
 "cells": [
  {
   "cell_type": "markdown",
   "metadata": {},
   "source": [
    "# Lecture 9"
   ]
  },
  {
   "cell_type": "markdown",
   "metadata": {},
   "source": [
    "## Iterative Methods\n",
    "\n",
    "### 0.Overview\n",
    "\n",
    "    A. References \n",
    "        \n",
    "        1. Golub + Valn Loan\n",
    "        2. Saad 2000, Sparse System\n",
    "        3. Shewchuk 1994, Intro to conjugated Gradients without the agonizing pain\n",
    "        4. Gower + Richtarik Randomized Interactive Methods for Linear System 2015\n",
    "    \n",
    "    B. Outline\n",
    "        \n",
    "        1. Motivate iterative methods\n",
    "        2. Splitting methods\n",
    "        3. Sparse Randomized Kaczmarz Method\n",
    "        4. Gradient Descent\n",
    "        5. Conjugate Gradients\n",
    "        6. GMRES (Gerneral...residual) (optional)\n",
    "\n",
    "### I. Motivation\n",
    "### II. Splitting methods\n",
    "\n",
    "Let $x^c$ denote current iterate and $x^+$ denote next iterate. \n",
    "\n",
    "$r^c = Ax^c - b$ current residual; $r^+ = Ax^+ - b$ next residual.\n",
    "\n",
    "$A = D - E - F$\n",
    "    - $D$ is the diagonal entries of A\n",
    "    - $E$ is the negative lower triangular matrix of A\n",
    "    - $F$ is the negative upper triangular matrix of A\n",
    "\n",
    "<font color=brown>**Example:**</font>\n",
    "\n",
    "$\\begin{bmatrix} 3 & 6 & 9\\\\ 2 & 4 & 8 \\\\ 5 & 13 & 9 \\lambda \\end{bmatrix} = \\begin{bmatrix} 3 & 0 & 0\\\\ 0 & 4 & 0 \\\\ 0 & 0 & 9 \\lambda \\end{bmatrix} + \\begin{bmatrix} 0 & 0 & 9\\\\ -2 & 0 & 0 \\\\ -5 & -13 & 0 \\lambda \\end{bmatrix} + \\begin{bmatrix} 0 & -6 & -9\\\\ 0 & 0 & -8 \\\\ 0 & 0 & 0 \\lambda \\end{bmatrix}$\n"
   ]
  },
  {
   "cell_type": "markdown",
   "metadata": {},
   "source": [
    "#### A. Jacobi Method\n",
    "\n",
    "Let ${e_j}$ be the standard basis in $R^d$. \n",
    "\n",
    "<font color=brown>**Basic Idea:**</font>set $r_i^+$ to zero.\n",
    "\n",
    "<font color=black>\n",
    "$$0 = r_i^+ = b_i - \\sum_{k = 1, k\\neq i}^{d} A_{ik}x_k^c - A_{ii}x_i$$\n",
    "$$ \\implies A_{ii}x_i^+ = b_i - \\sum_{k = 1, k\\neq i}^{d} A_{ik}x_k^c $$\n",
    "$$ \\implies x_i^+ = \\frac{1}{A_{ii}}(b_i - \\sum_{k = 1, k\\neq i}^{d} A_{ik}x_k^c) $$\n",
    "$$ \\iff x_i^+ = \\frac{1}{A_{ii}}(b_i + \\sum_{k = 1}^{i-1} E_{ik}x_k^c) + \\sum_{k = i+1}^{d} F_{ik}x_k^c) $$\n",
    "$$\\iff X^+ = D^{-1}(b + (E+F)X^c)$$\n",
    "</font>"
   ]
  },
  {
   "cell_type": "markdown",
   "metadata": {},
   "source": [
    "#### B. Gauss-Seidel\n",
    "\n",
    "<font color=brown>**Basic Idea:**</font>:set $r_i^+ = 0$, $x_i^+ from x_i^c$\n",
    "\n",
    "<font color=black>\n",
    "$$0 = r_i^+ = b_i -  \\sum_{k = 1}^{i-1} A_{ik}x_k^+) + \\sum_{k = i+1}^{d} A_{ik}x_k^c) - A_{ii}x_i$$\n",
    "$$ \\iff x_i^+ = \\frac{1}{D_{ii}}(b_i + \\sum_{k = 1}^{i-1} E_{ik}x_k^+) + \\sum_{k = i+1}^{d} F_{ik}x_k^c) $$\n",
    "$$\\iff X^+ = D^{-1}(b + EX^+ +FX^c)$$\n",
    "$$\\iff X^+ = (D-E)^{-1}(b +FX^c)$$\n",
    "</font>"
   ]
  },
  {
   "cell_type": "code",
   "execution_count": null,
   "metadata": {},
   "outputs": [],
   "source": []
  }
 ],
 "metadata": {
  "kernelspec": {
   "display_name": "Julia 1.0.0",
   "language": "julia",
   "name": "julia-1.0"
  },
  "language_info": {
   "file_extension": ".jl",
   "mimetype": "application/julia",
   "name": "julia",
   "version": "1.0.0"
  }
 },
 "nbformat": 4,
 "nbformat_minor": 2
}
